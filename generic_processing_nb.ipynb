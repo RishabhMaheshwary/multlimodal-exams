{
 "cells": [
  {
   "cell_type": "markdown",
   "metadata": {},
   "source": [
    "# Set up"
   ]
  },
  {
   "cell_type": "code",
   "execution_count": null,
   "metadata": {},
   "outputs": [],
   "source": [
    "from pypdf import PdfReader\n",
    "from IPython.display import Image\n",
    "import cohere\n",
    "from io import BytesIO\n",
    "from PIL import Image as PILImage\n",
    "\n",
    "def display_pdf(pdf_path):\n",
    "    reader = PdfReader(pdf_path)\n",
    "    for i, page in enumerate(reader.pages):\n",
    "        img = Image(page.to_image())\n",
    "        display(img)\n",
    "\n",
    "\n",
    "QUESTION_FORMAT = \"\"\"\n",
    "Question [number]\n",
    "[Question text]\n",
    "A) [Option A]\n",
    "B) [Option B]\n",
    "C) [Option C]\n",
    "D) [Option D]\n",
    "\"\"\"\n",
    "\n",
    "EXAMPLE = \"\"\"\n",
    "Input: \n",
    "======\n",
    "18. Isabel compró cierta cantidad de bandejas y de huevos. Al colocar n huevos en \n",
    "cada bandeja, le sobraban m huevos y si colocaba p huevos en cada bandeja, le \n",
    "sobraban q bandejas. Si x representa la cantidad de bandejas de huevos e y la cantidad de huevos \n",
    "comprados por Isabel, ¿cuál de los siguientes sistemas de ecuaciones representa \n",
    "la situación planteada?  \n",
    "A) nx + m = y \n",
    "p(x - q) = y\n",
    "B) nx - m = y \n",
    "p(x - q) = y \n",
    "C) nx + m = y \n",
    "p(x + q) = y\n",
    "D) nx + m = y \n",
    "px - q = y \n",
    "=====\n",
    "\n",
    "Output:\n",
    "=======\n",
    "Question 18\n",
    "Isabel compró cierta cantidad de bandejas y de huevos. Al colocar n huevos en cada bandeja, le sobraban m huevos y si colocaba p huevos en cada bandeja, le sobraban q bandejas. Si x representa la cantidad de bandejas de huevos e y la cantidad de huevos comprados por Isabel, ¿cuál de los siguientes sistemas de ecuaciones representa la situación planteada?\n",
    "A) nx + m = y; p(x - q) = y\n",
    "B) nx - m = y; p(x - q) = y\n",
    "C) nx + m = y; p(x + q) = y\n",
    "D) nx + m = y; px - q = y\n",
    "\"\"\"\n",
    "\n",
    "def extract_questions(text: str, co: cohere.Client, language: str) -> str:\n",
    "    prompt = f\"\"\"Please extract the multiple-choice questions from the following text.\n",
    "\n",
    "The questions are in {language} and follow this format:\n",
    "\n",
    "{QUESTION_FORMAT}\n",
    "\n",
    "Please maintain this exact format in your response, including the prefix and the lettered options. \n",
    "\n",
    "Here's the text:\n",
    "\n",
    "{text}\"\"\"\n",
    "\n",
    "    response = co.chat(\n",
    "        model=\"command-r-plus\",\n",
    "        message=prompt\n",
    "    )\n",
    "    return response.text\n",
    "\n",
    "def parse_cohere_output(output: str):\n",
    "    questions = []\n",
    "    current_question = None\n",
    "    for line in output.split('\\n'):\n",
    "        line = line.strip()\n",
    "        if not line:\n",
    "            continue\n",
    "        if line.lower().startswith('pyetja') or line.lower().startswith('question'):\n",
    "            if current_question:\n",
    "                questions.append(current_question)\n",
    "            current_question = {'question_number': line, 'question_text': '', 'choices': []}\n",
    "        elif current_question and not current_question['question_text']:\n",
    "            current_question['question_text'] = line\n",
    "        elif line.startswith(('A)', 'B)', 'C)', 'D)')):\n",
    "            if current_question is None:\n",
    "                current_question = {'question_number': 'Unknown', 'question_text': 'Unknown', 'choices': []}\n",
    "            current_question['choices'].append(line)\n",
    "    \n",
    "    if current_question:\n",
    "        questions.append(current_question)\n",
    "    \n",
    "    return questions"
   ]
  },
  {
   "cell_type": "code",
   "execution_count": null,
   "metadata": {},
   "outputs": [],
   "source": [
    "!pip install -r requirements.txt"
   ]
  },
  {
   "cell_type": "code",
   "execution_count": 14,
   "metadata": {},
   "outputs": [
    {
     "name": "stderr",
     "output_type": "stream",
     "text": [
      "156.44s - pydevd: Sending message related to process being replaced timed-out after 5 seconds\n"
     ]
    },
    {
     "name": "stdout",
     "output_type": "stream",
     "text": [
      "--2024-12-18 12:01:34--  https://m.shsbnu.net/pluginfile.php/38738/mod_resource/content/1/%5B2018-Official-AP%20Practice%20Exam%5D%20(With%20Answers).pdf\n",
      "Resolving m.shsbnu.net (m.shsbnu.net)... 106.120.108.165\n",
      "Connecting to m.shsbnu.net (m.shsbnu.net)|106.120.108.165|:443... connected.\n",
      "HTTP request sent, awaiting response... 200 OK\n",
      "Length: 5506671 (5.3M) [application/pdf]\n",
      "Saving to: ‘[2018-Official-AP Practice Exam] (With Answers).pdf’\n",
      "\n",
      "[2018-Official-AP P 100%[===================>]   5.25M  1.23MB/s    in 4.8s    \n",
      "\n",
      "2024-12-18 12:01:40 (1.10 MB/s) - ‘[2018-Official-AP Practice Exam] (With Answers).pdf’ saved [5506671/5506671]\n",
      "\n"
     ]
    }
   ],
   "source": [
    "!wget \"https://m.shsbnu.net/pluginfile.php/38738/mod_resource/content/1/%5B2018-Official-AP%20Practice%20Exam%5D%20(With%20Answers).pdf\""
   ]
  },
  {
   "cell_type": "markdown",
   "metadata": {},
   "source": [
    "# Configuration"
   ]
  },
  {
   "cell_type": "code",
   "execution_count": 14,
   "metadata": {},
   "outputs": [],
   "source": [
    "INPUT_FILE_PATH = 'JEEAdv2024_Paper2_Hindi.pdf'\n",
    "SOURCE = \"https://m.shsbnu.net/pluginfile.php/38738/mod_resource/content/1/%5B2018-Official-AP%20Practice%20Exam%5D%20(With%20Answers).pdf\"\n",
    "LANGUAGE = \"en\"\n",
    "COUNTRY = \"\"\n",
    "LICENSE = \"\"\n",
    "LEVEL = \"\"\n",
    "CATEGORY_EN = \"\"\n",
    "CATEGORY_ORIGINAL_LANG = \"\"\n",
    "cohere_api_key = \"oEC6kZWYlCTv9sQBPdJEPViXx5WSFezyC5M3Bm7o\"\n",
    "co = cohere.Client(api_key=cohere_api_key)\n",
    "question_denomination = \"Pyetja\" if LANGUAGE == \"al\" else \"Question\" # Change this to the appropriate questions denomination in the language of the text\n",
    "pages = (9, 11) # Set this to the pages you want to extract questions from, e.g. (1, 3) to extract questions from the second to fourth pages"
   ]
  },
  {
   "cell_type": "markdown",
   "metadata": {},
   "source": [
    "# Read PDF"
   ]
  },
  {
   "cell_type": "code",
   "execution_count": 16,
   "metadata": {},
   "outputs": [
    {
     "name": "stdout",
     "output_type": "stream",
     "text": [
      "Page 9 has 1 images\n"
     ]
    },
    {
     "data": {
      "image/jpeg": "[encoded data removed]",
      "image/png": "[encoded data removed]",
      "text/plain": [
       "<PIL.JpegImagePlugin.JpegImageFile image mode=RGB size=450x170>"
      ]
     },
     "metadata": {},
     "output_type": "display_data"
    }
   ],
   "source": [
    "reader = PdfReader(INPUT_FILE_PATH)\n",
    "text = []\n",
    "output = {}\n",
    "for page in reader.pages[pages[0]:pages[1]] if pages else reader.pages:\n",
    "    text.append(page.extract_text(extraction_mode=\"plain\").strip())\n",
    "    if len(page.images) > 0:\n",
    "        print(f\"Page {page.page_number} has {len(page.images)} images\")\n",
    "        for image in page.images:\n",
    "            # Display the image\n",
    "            display(image.image)\n",
    "            if input(\"Does this image relate to a question? (y/n) \").lower() == \"y\":\n",
    "                # Get the question number\n",
    "                answer = input(\"Enter the question number and 'r' if it is related (example: '1r', otherwise it is an answer option): \")\n",
    "                question_number = int(answer[0])\n",
    "                if question_number not in output.keys():\n",
    "                    output[question_number] = {\"langauge\": LANGUAGE, \"country\": COUNTRY, \"license\": LICENSE, \"file_name\": INPUT_FILE_PATH, \"level\": LEVEL, \"category_en\": CATEGORY_EN, \"question\": \"\", \"options\": [], \"original_question_num\": question_number, \"category_original_lang\": CATEGORY_ORIGINAL_LANG, \"image_png\": \"\", \"image_type\": \"\", \"image_information\": \"\", \"parallel_questions_id\": None}\n",
    "                # Save image in question folder\n",
    "                answer_option = len(output[question_number][\"options\"])\n",
    "                x =  f\"{INPUT_FILE_PATH[:-4]}/question_{question_number}_{answer_option}.png\" \n",
    "                if answer[-1] == \"r\":\n",
    "                    image_type = input(\"Enter the image type (table, ...): \")\n",
    "                    if input(\"Is this image needed? (y/n) \").lower() == \"y\":\n",
    "                        output[question_number][\"image_information\"] = \"essential\"\n",
    "                    answer_option = \"r\"\n",
    "                    output[question_number][\"image_type\"] = image_type\n",
    "                    output[question_number][\"image_png\"] = x\n",
    "                else:\n",
    "                    output[question_number][\"options\"].append(x)\n",
    "                image.image.save(x)\n",
    "all_text = \" \".join(text)\n",
    "if question_denomination in all_text:\n",
    "    for number, question in enumerate(all_text.split(question_denomination)):\n",
    "        question_text = all_text.split(question_denomination)[number-1][:100] + question\n",
    "        if output.get(number) is None:\n",
    "            output[number] = {\"langauge\": LANGUAGE, \"country\": COUNTRY, \"license\": LICENSE, \"file_name\": INPUT_FILE_PATH, \"level\": LEVEL, \"category_en\": CATEGORY_EN, \"question\": question_text, \"options\": [], \"original_question_num\": number, \"category_original_lang\": CATEGORY_ORIGINAL_LANG, \"image_png\": \"\", \"image_type\": \"\", \"image_information\": \"\", \"parallel_questions_id\": None}\n",
    "        response = parse_cohere_output(extract_questions(question_text, co, LANGUAGE))\n",
    "        if len(response) > 1:\n",
    "            print(f\"Denomination for question {question_denomination} leads to multiple question in the splits\")\n",
    "        for question in response:\n",
    "            if question[\"question_number\"] == \"Unknown\":\n",
    "                for i in range(1000):\n",
    "                    if f\"{i}unkown\" not in output.keys():\n",
    "                        number = f\"{i}unkown\"\n",
    "                        output[i] = {\"langauge\": LANGUAGE, \"country\": COUNTRY, \"license\": LICENSE, \"file_name\": INPUT_FILE_PATH, \"level\": LEVEL, \"category_en\": CATEGORY_EN, \"question\": question[\"question_text\"], \"options\": question[\"choices\"], \"original_question_num\": i, \"category_original_lang\": CATEGORY_ORIGINAL_LANG, \"image_png\": \"\", \"image_type\": \"\", \"image_information\": \"\", \"parallel_questions_id\": None}\n",
    "                        break\n",
    "            else:\n",
    "                number = int(question[\"question_number\"].split(\" \")[1])\n",
    "            output[number][\"question\"] = question[\"question_text\"]\n",
    "            output[number][\"options\"] = question[\"choices\"]\n",
    "else:\n",
    "    # Process page by page\n",
    "    for number, page in enumerate(text):\n",
    "        response = parse_cohere_output(extract_questions(page, co, LANGUAGE))\n",
    "        for question in response:\n",
    "            if question[\"question_number\"] == \"Unknown\":\n",
    "                for i in range(1000):\n",
    "                    if f\"{i}unkown\" not in output.keys():\n",
    "                        number = f\"{i}unkown\"\n",
    "                        output[i] = {\"langauge\": LANGUAGE, \"country\": COUNTRY, \"license\": LICENSE, \"file_name\": INPUT_FILE_PATH, \"level\": LEVEL, \"category_en\": CATEGORY_EN, \"question\": question[\"question_text\"], \"options\": question[\"choices\"], \"original_question_num\": i, \"category_original_lang\": CATEGORY_ORIGINAL_LANG, \"image_png\": \"\", \"image_type\": \"\", \"image_information\": \"\", \"parallel_questions_id\": None}\n",
    "                        break\n",
    "            else:\n",
    "                number = int(question[\"question_number\"].split(\" \")[1])\n",
    "            if number not in output.keys():\n",
    "                output[number] = {\"langauge\": LANGUAGE, \"country\": COUNTRY, \"license\": LICENSE, \"file_name\": INPUT_FILE_PATH, \"level\": LEVEL, \"category_en\": CATEGORY_EN, \"question\": question[\"question_text\"], \"options\": question[\"choices\"], \"original_question_num\": number, \"category_original_lang\": CATEGORY_ORIGINAL_LANG, \"image_png\": \"\", \"image_type\": \"\", \"image_information\": \"\", \"parallel_questions_id\": None}\n",
    "            else:\n",
    "                output[number][\"question\"] = question[\"question_text\"]\n",
    "                output[number][\"options\"] = question[\"choices\"]"
   ]
  },
  {
   "cell_type": "markdown",
   "metadata": {},
   "source": [
    "# Output results correctly"
   ]
  },
  {
   "cell_type": "code",
   "execution_count": 19,
   "metadata": {},
   "outputs": [],
   "source": [
    "import json\n",
    "result = list(output.values())\n",
    "json.dump(result, open(f\"{INPUT_FILE_PATH[:-4]}_questions.json\", \"w\"))"
   ]
  },
  {
   "cell_type": "code",
   "execution_count": 9,
   "metadata": {},
   "outputs": [],
   "source": [
    "import os\n",
    "os.makedirs(\"JEEAdv2024_Paper2_Hindi)\")"
   ]
  }
 ],
 "metadata": {
  "kernelspec": {
   "display_name": "Python 3",
   "language": "python",
   "name": "python3"
  },
  "language_info": {
   "codemirror_mode": {
    "name": "ipython",
    "version": 3
   },
   "file_extension": ".py",
   "mimetype": "text/x-python",
   "name": "python",
   "nbconvert_exporter": "python",
   "pygments_lexer": "ipython3",
   "version": "3.10.16"
  }
 },
 "nbformat": 4,
 "nbformat_minor": 2
}
